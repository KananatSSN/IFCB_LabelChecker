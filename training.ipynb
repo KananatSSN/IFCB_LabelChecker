{
 "cells": [
  {
   "cell_type": "code",
   "execution_count": null,
   "metadata": {},
   "outputs": [],
   "source": [
    "from ultralytics import YOLO\n",
    "\n",
    "model = YOLO(r\"yolo11m-cls.pt\")  # Load the classification model\n",
    "dataset_dir = r\"E:\\Lina\\training data\"\n",
    "\n",
    "# Start training\n",
    "results = model.train(\n",
    "    data=dataset_dir,\n",
    "    epochs=500,\n",
    "    imgsz=224,\n",
    "    batch=32,\n",
    "    device='0'  # Use '0' for first GPU, 'cpu' for CPU training\n",
    ")"
   ]
  }
 ],
 "metadata": {
  "kernelspec": {
   "display_name": "IGB0",
   "language": "python",
   "name": "python3"
  },
  "language_info": {
   "codemirror_mode": {
    "name": "ipython",
    "version": 3
   },
   "file_extension": ".py",
   "mimetype": "text/x-python",
   "name": "python",
   "nbconvert_exporter": "python",
   "pygments_lexer": "ipython3",
   "version": "3.12.0"
  }
 },
 "nbformat": 4,
 "nbformat_minor": 2
}
